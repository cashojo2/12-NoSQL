{
 "cells": [
  {
   "cell_type": "markdown",
   "id": "9a57c4c6",
   "metadata": {},
   "source": [
    "# Eat Safe, Love"
   ]
  },
  {
   "cell_type": "markdown",
   "id": "064ef857",
   "metadata": {},
   "source": [
    "## Part 1: Database and Jupyter Notebook Set Up"
   ]
  },
  {
   "cell_type": "markdown",
   "id": "664e3c1f",
   "metadata": {},
   "source": [
    "Evaluating food ratings data of UK Establishments for journal Eat Safe, Love\n",
    "\n",
    "Source file: `establishments.json`\n",
    "\n",
    "Database name: `uk_food`\n",
    "\n",
    "Collection name: `establishments`\n",
    "\n",
    "Terminal import line: `mongoimport --type json -d uk_food -c establishments --drop --jsonArray establishments.json'"
   ]
  },
  {
   "cell_type": "code",
   "execution_count": 6,
   "id": "3ecdd008",
   "metadata": {},
   "outputs": [],
   "source": [
    "# Import dependencies\n",
    "from pymongo import MongoClient\n",
    "from pprint import pprint"
   ]
  },
  {
   "cell_type": "code",
   "execution_count": 7,
   "id": "59390c4a",
   "metadata": {},
   "outputs": [],
   "source": [
    "# Create an instance of MongoClient\n",
    "mongo = MongoClient(port=27017)"
   ]
  },
  {
   "cell_type": "code",
   "execution_count": 8,
   "id": "7f9ececa",
   "metadata": {},
   "outputs": [
    {
     "name": "stdout",
     "output_type": "stream",
     "text": [
      "['admin', 'classDB', 'class_db', 'config', 'fruits_db', 'local', 'met', 'petsitly', 'travel_db', 'uk_food']\n"
     ]
    }
   ],
   "source": [
    "# confirm that our new database was created\n",
    "print(mongo.list_database_names())"
   ]
  },
  {
   "cell_type": "code",
   "execution_count": 9,
   "id": "71e373c1",
   "metadata": {},
   "outputs": [],
   "source": [
    "# assign the uk_food database to a variable name\n",
    "db = mongo['uk_food']"
   ]
  },
  {
   "cell_type": "code",
   "execution_count": 10,
   "id": "ef1b89ed",
   "metadata": {},
   "outputs": [
    {
     "data": {
      "text/plain": [
       "['establishments']"
      ]
     },
     "execution_count": 10,
     "metadata": {},
     "output_type": "execute_result"
    }
   ],
   "source": [
    "# review the collections in our new database\n",
    "db.list_collection_names()"
   ]
  },
  {
   "cell_type": "code",
   "execution_count": 25,
   "id": "6a0d92df",
   "metadata": {},
   "outputs": [
    {
     "name": "stdout",
     "output_type": "stream",
     "text": [
      "{'AddressLine1': 'East Cliff Pavilion',\n",
      " 'AddressLine2': 'Wear Bay Road',\n",
      " 'AddressLine3': 'Folkestone',\n",
      " 'AddressLine4': 'Kent',\n",
      " 'BusinessName': 'The Pavilion',\n",
      " 'BusinessType': 'Restaurant/Cafe/Canteen',\n",
      " 'BusinessTypeID': 1,\n",
      " 'ChangesByServerID': 0,\n",
      " 'Distance': 4591.765489457773,\n",
      " 'FHRSID': 1043695,\n",
      " 'LocalAuthorityBusinessID': 'PI/000073616',\n",
      " 'LocalAuthorityCode': '188',\n",
      " 'LocalAuthorityEmailAddress': 'foodteam@folkestone-hythe.gov.uk',\n",
      " 'LocalAuthorityName': 'Folkestone and Hythe',\n",
      " 'LocalAuthorityWebSite': 'http://www.folkestone-hythe.gov.uk',\n",
      " 'NewRatingPending': False,\n",
      " 'Phone': '',\n",
      " 'PostCode': 'CT19 6BL',\n",
      " 'RatingDate': '2018-04-04T00:00:00',\n",
      " 'RatingKey': 'fhrs_5_en-gb',\n",
      " 'RatingValue': '5',\n",
      " 'RightToReply': '',\n",
      " 'SchemeType': 'FHRS',\n",
      " '_id': ObjectId('658caefe91779842fbc17855'),\n",
      " 'geocode': {'latitude': '51.083812', 'longitude': '1.195625'},\n",
      " 'links': [{'href': 'https://api.ratings.food.gov.uk/establishments/1043695',\n",
      "            'rel': 'self'}],\n",
      " 'meta': {'dataSource': None,\n",
      "          'extractDate': '0001-01-01T00:00:00',\n",
      "          'itemCount': 0,\n",
      "          'pageNumber': 0,\n",
      "          'pageSize': 0,\n",
      "          'returncode': None,\n",
      "          'totalCount': 0,\n",
      "          'totalPages': 0},\n",
      " 'scores': {'ConfidenceInManagement': 5, 'Hygiene': 5, 'Structural': 5}}\n"
     ]
    }
   ],
   "source": [
    "# review a document in the establishments collection\n",
    "pprint(db.establishments.find_one())"
   ]
  },
  {
   "cell_type": "code",
   "execution_count": 11,
   "id": "11c9f11b",
   "metadata": {},
   "outputs": [],
   "source": [
    "# assign the collection to a variable\n",
    "establishments = db['establishments']"
   ]
  },
  {
   "cell_type": "markdown",
   "id": "d5671434",
   "metadata": {},
   "source": [
    "## Part 2: Update the Database"
   ]
  },
  {
   "cell_type": "markdown",
   "id": "314bd884",
   "metadata": {},
   "source": [
    "1. An exciting new halal restaurant just opened in Greenwich, but hasn't been rated yet. The magazine has asked you to include it in your analysis. Add the following restaurant \"Penang Flavours\" to the database."
   ]
  },
  {
   "cell_type": "code",
   "execution_count": 4,
   "id": "c2da7648",
   "metadata": {},
   "outputs": [],
   "source": [
    "# Create a dictionary for the new restaurant data\n",
    "new_document = {\n",
    "    'AddressLine3': 'Greenwich',\n",
    "    'BusinessName': 'Penang Flavours',\n",
    "    'BusinessType': 'Restaurant',\n",
    "}"
   ]
  },
  {
   "cell_type": "code",
   "execution_count": 9,
   "id": "a6e5cece",
   "metadata": {},
   "outputs": [
    {
     "data": {
      "text/plain": [
       "<pymongo.results.InsertOneResult at 0x1186f3980>"
      ]
     },
     "execution_count": 9,
     "metadata": {},
     "output_type": "execute_result"
    }
   ],
   "source": [
    "# Insert the new restaurant into the collection\n",
    "establishments.insert_one(new_document)"
   ]
  },
  {
   "cell_type": "code",
   "execution_count": 10,
   "id": "63bb10f9",
   "metadata": {},
   "outputs": [
    {
     "name": "stdout",
     "output_type": "stream",
     "text": [
      "[{'AddressLine3': 'Greenwich',\n",
      "  'BusinessName': 'Penang Flavours',\n",
      "  'BusinessType': 'Restaurant',\n",
      "  '_id': ObjectId('658cb12fc562a6e766835377')}]\n"
     ]
    }
   ],
   "source": [
    "# Check that the new restaurant was inserted\n",
    "\n",
    "# define query\n",
    "query = {'BusinessName': 'Penang Flavours'}\n",
    "\n",
    "# perform\n",
    "results = list(establishments.find(query))\n",
    "pprint(results)"
   ]
  },
  {
   "cell_type": "markdown",
   "id": "0ef4395a",
   "metadata": {},
   "source": [
    "2. Find the BusinessTypeID for \"Restaurant/Cafe/Canteen\" and return only the `BusinessTypeID` and `BusinessType` fields."
   ]
  },
  {
   "cell_type": "code",
   "execution_count": 11,
   "id": "93c63829",
   "metadata": {},
   "outputs": [
    {
     "name": "stdout",
     "output_type": "stream",
     "text": [
      "[{'BusinessName': 'Refreshment Kiosk',\n",
      "  'BusinessType': 'Restaurant/Cafe/Canteen',\n",
      "  'BusinessTypeID': 1,\n",
      "  '_id': ObjectId('658caefe91779842fbc1756e')},\n",
      " {'BusinessName': 'The Tea Room',\n",
      "  'BusinessType': 'Restaurant/Cafe/Canteen',\n",
      "  'BusinessTypeID': 1,\n",
      "  '_id': ObjectId('658caefe91779842fbc17571')},\n",
      " {'BusinessName': 'Mrs Knotts Tea Room',\n",
      "  'BusinessType': 'Restaurant/Cafe/Canteen',\n",
      "  'BusinessTypeID': 1,\n",
      "  '_id': ObjectId('658caefe91779842fbc17573')},\n",
      " {'BusinessName': 'Boodles',\n",
      "  'BusinessType': 'Restaurant/Cafe/Canteen',\n",
      "  'BusinessTypeID': 1,\n",
      "  '_id': ObjectId('658caefe91779842fbc17574')},\n",
      " {'BusinessName': 'FirstLight Bar & Café',\n",
      "  'BusinessType': 'Restaurant/Cafe/Canteen',\n",
      "  'BusinessTypeID': 1,\n",
      "  '_id': ObjectId('658caefe91779842fbc17575')}]\n"
     ]
    }
   ],
   "source": [
    "# Find the BusinessTypeID for \"Restaurant/Cafe/Canteen\" and return only the BusinessTypeID and BusinessType fields\n",
    "query = {'BusinessType': 'Restaurant/Cafe/Canteen'}\n",
    "fields = {'BusinessType': 1, 'BusinessTypeID': 1, 'BusinessName': 1}\n",
    "limit = 5\n",
    "\n",
    "# Cast the results as a list and save the results to a variable\n",
    "results = list(establishments.find(query, fields).limit(limit))\n",
    "pprint(results)"
   ]
  },
  {
   "cell_type": "markdown",
   "id": "4e570caf",
   "metadata": {},
   "source": [
    "3. Update the new restaurant with the `BusinessTypeID` you found."
   ]
  },
  {
   "cell_type": "code",
   "execution_count": 12,
   "id": "7f599f3d",
   "metadata": {},
   "outputs": [
    {
     "name": "stdout",
     "output_type": "stream",
     "text": [
      "Matched 1 document(s) and modified 1 document(s).\n"
     ]
    }
   ],
   "source": [
    "# Update the new restaurant document with the correct BusinessTypeID:\n",
    "\n",
    "# define filter to identify what document to update\n",
    "filter_criteria = {'BusinessName': 'Penang Flavours'}\n",
    "\n",
    "# define the update operation\n",
    "update_operation = {\n",
    "    '$set': {\n",
    "        'BusinessType': 'Restaurant/Cafe/Canteen',\n",
    "        'BusinessTypeID': 1,\n",
    "        'AddressLine2': 'Lambarde Square',\n",
    "        'AddressLine3': 'Greenwich',\n",
    "        'AddressLine4': 'London',\n",
    "        'BusinessName': 'Penang Flavours',\n",
    "        'geocode.latitude': '51.485459',\n",
    "        'geocode.longitude': '0.008496'\n",
    "    }\n",
    "}\n",
    "\n",
    "# perform the update\n",
    "result = establishments.update_one(filter_criteria, update_operation)\n",
    "\n",
    "# verify - print the number of matched and modified documents\n",
    "print(f\"Matched {result.matched_count} document(s) and modified {result.modified_count} document(s).\")"
   ]
  },
  {
   "cell_type": "code",
   "execution_count": 13,
   "id": "a6ad16f7",
   "metadata": {},
   "outputs": [
    {
     "name": "stdout",
     "output_type": "stream",
     "text": [
      "[{'AddressLine3': 'Greenwich',\n",
      "  'BusinessName': 'Penang Flavours',\n",
      "  'BusinessType': 'Restaurant/Cafe/Canteen',\n",
      "  'BusinessTypeID': 1,\n",
      "  '_id': ObjectId('658cb12fc562a6e766835377')}]\n"
     ]
    }
   ],
   "source": [
    "# Confirm that the new restaurant was updated\n",
    "query = {'BusinessName': 'Penang Flavours'}\n",
    "results = list(establishments.find(query))\n",
    "pprint(results)"
   ]
  },
  {
   "cell_type": "markdown",
   "id": "67281254",
   "metadata": {},
   "source": [
    "4. The magazine is not interested in any establishments in Dover, so check how many documents contain the Dover Local Authority. Then, remove any establishments within the Dover Local Authority from the database, and check the number of documents to ensure they were deleted."
   ]
  },
  {
   "cell_type": "code",
   "execution_count": 14,
   "id": "768474a6",
   "metadata": {},
   "outputs": [
    {
     "data": {
      "text/plain": [
       "994"
      ]
     },
     "execution_count": 14,
     "metadata": {},
     "output_type": "execute_result"
    }
   ],
   "source": [
    "# Find how many documents have LocalAuthorityName as \"Dover\"\n",
    "dover = establishments.count_documents({'LocalAuthorityName': 'Dover'})\n",
    "dover"
   ]
  },
  {
   "cell_type": "code",
   "execution_count": 15,
   "id": "a11d5f1b",
   "metadata": {},
   "outputs": [
    {
     "name": "stdout",
     "output_type": "stream",
     "text": [
      "Deleted 994 document(s).\n"
     ]
    }
   ],
   "source": [
    "# Delete all documents where LocalAuthorityName is \"Dover\"\n",
    "\n",
    "# define filter criteria\n",
    "filter_criteria = {'LocalAuthorityName': 'Dover'}\n",
    "\n",
    "# perform the deletion event\n",
    "result = establishments.delete_many(filter_criteria)\n",
    "\n",
    "# verify - print the # of deleted documents\n",
    "print(f\"Deleted {result.deleted_count} document(s).\")"
   ]
  },
  {
   "cell_type": "code",
   "execution_count": 16,
   "id": "2a51aba0",
   "metadata": {},
   "outputs": [
    {
     "data": {
      "text/plain": [
       "0"
      ]
     },
     "execution_count": 16,
     "metadata": {},
     "output_type": "execute_result"
    }
   ],
   "source": [
    "# Check if any remaining documents include Dover\n",
    "dover = establishments.count_documents({'LocalAuthorityName': 'Dover'})\n",
    "dover"
   ]
  },
  {
   "cell_type": "code",
   "execution_count": 39,
   "id": "8c356f7b",
   "metadata": {},
   "outputs": [
    {
     "name": "stdout",
     "output_type": "stream",
     "text": [
      "{'AddressLine1': 'East Cliff Pavilion',\n",
      " 'AddressLine2': 'Wear Bay Road',\n",
      " 'AddressLine3': 'Folkestone',\n",
      " 'AddressLine4': 'Kent',\n",
      " 'BusinessName': 'The Pavilion',\n",
      " 'BusinessType': 'Restaurant/Cafe/Canteen',\n",
      " 'BusinessTypeID': 1,\n",
      " 'ChangesByServerID': 0,\n",
      " 'Distance': 4591.765489457773,\n",
      " 'FHRSID': 1043695,\n",
      " 'LocalAuthorityBusinessID': 'PI/000073616',\n",
      " 'LocalAuthorityCode': '188',\n",
      " 'LocalAuthorityEmailAddress': 'foodteam@folkestone-hythe.gov.uk',\n",
      " 'LocalAuthorityName': 'Folkestone and Hythe',\n",
      " 'LocalAuthorityWebSite': 'http://www.folkestone-hythe.gov.uk',\n",
      " 'NewRatingPending': False,\n",
      " 'Phone': '',\n",
      " 'PostCode': 'CT19 6BL',\n",
      " 'RatingDate': '2018-04-04T00:00:00',\n",
      " 'RatingKey': 'fhrs_5_en-gb',\n",
      " 'RatingValue': 5,\n",
      " 'RightToReply': '',\n",
      " 'SchemeType': 'FHRS',\n",
      " '_id': ObjectId('658caefe91779842fbc17855'),\n",
      " 'geocode': {'latitude': 51.083812, 'longitude': 1.195625},\n",
      " 'links': [{'href': 'https://api.ratings.food.gov.uk/establishments/1043695',\n",
      "            'rel': 'self'}],\n",
      " 'meta': {'dataSource': None,\n",
      "          'extractDate': '0001-01-01T00:00:00',\n",
      "          'itemCount': 0,\n",
      "          'pageNumber': 0,\n",
      "          'pageSize': 0,\n",
      "          'returncode': None,\n",
      "          'totalCount': 0,\n",
      "          'totalPages': 0},\n",
      " 'scores': {'ConfidenceInManagement': 5, 'Hygiene': 5, 'Structural': 5}}\n"
     ]
    }
   ],
   "source": [
    "# Check that other documents remain with 'find_one'\n",
    "pprint(establishments.find_one())"
   ]
  },
  {
   "cell_type": "markdown",
   "id": "e9f1662d",
   "metadata": {},
   "source": [
    "5. Some of the number values are stored as strings, when they should be stored as numbers."
   ]
  },
  {
   "cell_type": "markdown",
   "id": "c46df2df",
   "metadata": {},
   "source": [
    "Use `update_many` to convert `latitude` and `longitude` to decimal numbers."
   ]
  },
  {
   "cell_type": "code",
   "execution_count": 26,
   "id": "fd4112ce",
   "metadata": {},
   "outputs": [
    {
     "name": "stdout",
     "output_type": "stream",
     "text": [
      "Modified 38786 document(s).\n"
     ]
    }
   ],
   "source": [
    "# Change the data type from String to Decimal for longitude and latitude\n",
    "\n",
    "# define filter criteria for update\n",
    "filter_criteria = {}\n",
    "\n",
    "# define the update operation - convert lat, long strings to int\n",
    "update_operation = [\n",
    "    {\n",
    "        '$set': {\n",
    "            'geocode.latitude': {'$toDouble': '$geocode.latitude'},\n",
    "            'geocode.longitude': {'$toDouble': '$geocode.longitude'}\n",
    "        }\n",
    "    }\n",
    "]\n",
    "\n",
    "# perform the update\n",
    "result = establishments.update_many(filter_criteria, update_operation)\n",
    "\n",
    "# verify - print the # of deleted documents\n",
    "print(f\"Modified {result.modified_count} document(s).\")"
   ]
  },
  {
   "cell_type": "markdown",
   "id": "142e319c",
   "metadata": {},
   "source": [
    "Use `update_many` to convert `RatingValue` to integer numbers."
   ]
  },
  {
   "cell_type": "code",
   "execution_count": 28,
   "id": "04430a5b",
   "metadata": {},
   "outputs": [],
   "source": [
    "# Set non 1-5 Rating Values to Null\n",
    "\n",
    "non_ratings = [\"AwaitingInspection\", \"Awaiting Inspection\", \"AwaitingPublication\", \"Pass\", \"Exempt\"]\n",
    "\n",
    "# define filter criteria\n",
    "filter_criteria = {\"RatingValue\": {\"$in\": non_ratings}}\n",
    "\n",
    "# define the update operation\n",
    "update_operation = [\n",
    "    {\n",
    "        '$set': {\n",
    "            'RatingValue': None\n",
    "        }\n",
    "    }\n",
    "]\n",
    "\n",
    "# perform the update\n",
    "result = establishments.update_many(filter_criteria, update_operation)\n",
    "\n",
    "# verify - print the # of deleted documents\n",
    "print(f\"Modified {result.modified_count} document(s).\")"
   ]
  },
  {
   "cell_type": "code",
   "execution_count": 31,
   "id": "92524ccc",
   "metadata": {},
   "outputs": [
    {
     "name": "stdout",
     "output_type": "stream",
     "text": [
      "Modified 34695 document(s).\n"
     ]
    }
   ],
   "source": [
    "# Change the data type for RatingValue from String to Integer \n",
    "\n",
    "# define filter criteria for update\n",
    "filter_criteria = {}\n",
    "\n",
    "# define the update operation - convert lat, long strings to int\n",
    "update_operation = [\n",
    "    {\n",
    "        '$set': {\n",
    "            'RatingValue': {'$toInt': '$RatingValue'}\n",
    "        }\n",
    "    }\n",
    "]\n",
    "\n",
    "# perform the update\n",
    "result = establishments.update_many(filter_criteria, update_operation)\n",
    "\n",
    "# verify - print the # of deleted documents\n",
    "print(f\"Modified {result.modified_count} document(s).\")"
   ]
  },
  {
   "cell_type": "code",
   "execution_count": 46,
   "id": "0deacaf9",
   "metadata": {},
   "outputs": [
    {
     "name": "stdout",
     "output_type": "stream",
     "text": [
      "Check that the rating values are now numbers:\n",
      "0\n",
      "34694\n",
      "----------------------\n",
      "Check that the coordinate values are now numbers:\n",
      "0\n",
      "38785\n"
     ]
    }
   ],
   "source": [
    "print('Check that the rating values are now numbers:')\n",
    "\n",
    "result1 = establishments.count_documents({'RatingValue': {'$type': 'string'}})\n",
    "result2 = establishments.count_documents({'RatingValue': {'$type': 'int'}})\n",
    "\n",
    "\n",
    "print(result1)\n",
    "print(result2)\n",
    "\n",
    "print('----------------------')\n",
    "print('Check that the coordinate values are now numbers:')\n",
    "\n",
    "result3 = establishments.count_documents({'geocode.latitude': {'$type': 'string'}})\n",
    "result4 = establishments.count_documents({'geocode.latitude': {'$type': 'double'}})\n",
    "\n",
    "\n",
    "print(result3)\n",
    "print(result4)"
   ]
  },
  {
   "cell_type": "code",
   "execution_count": null,
   "id": "f0e34e02",
   "metadata": {},
   "outputs": [],
   "source": []
  }
 ],
 "metadata": {
  "kernelspec": {
   "display_name": "Python 3 (ipykernel)",
   "language": "python",
   "name": "python3"
  },
  "language_info": {
   "codemirror_mode": {
    "name": "ipython",
    "version": 3
   },
   "file_extension": ".py",
   "mimetype": "text/x-python",
   "name": "python",
   "nbconvert_exporter": "python",
   "pygments_lexer": "ipython3",
   "version": "3.10.13"
  }
 },
 "nbformat": 4,
 "nbformat_minor": 5
}
